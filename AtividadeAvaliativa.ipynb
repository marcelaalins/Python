{
  "nbformat": 4,
  "nbformat_minor": 0,
  "metadata": {
    "colab": {
      "provenance": [],
      "include_colab_link": true
    },
    "kernelspec": {
      "name": "python3",
      "display_name": "Python 3"
    },
    "language_info": {
      "name": "python"
    }
  },
  "cells": [
    {
      "cell_type": "markdown",
      "metadata": {
        "id": "view-in-github",
        "colab_type": "text"
      },
      "source": [
        "<a href=\"https://colab.research.google.com/github/marcelaalins/Python/blob/main/AtividadeAvaliativa.ipynb\" target=\"_parent\"><img src=\"https://colab.research.google.com/assets/colab-badge.svg\" alt=\"Open In Colab\"/></a>"
      ]
    },
    {
      "cell_type": "code",
      "source": [
        "import pandas as pd\n",
        "import numpy as np\n",
        "import matplotlib.pyplot as plt\n",
        "import warnings\n",
        "warnings.filterwarnings(\"ignore\")"
      ],
      "metadata": {
        "id": "aOb0OcLAE_K5"
      },
      "execution_count": null,
      "outputs": []
    },
    {
      "cell_type": "markdown",
      "source": [
        "Os dados foram extraídos do DataFrame IPEAData, e são relacionados à taxa de mortalidade infantil por mil nascidos vivos no Brasil, numa análise anual que perdura até o ano de 2021. Não há recorte de gênero, cor, etnicidade, religião, dentre outras características socioeconômicas ou demográficas.\n",
        "Fonte: http://www.ipeadata.gov.br/Default.aspx\n"
      ],
      "metadata": {
        "id": "UHnghjAQ0Fhc"
      }
    },
    {
      "cell_type": "code",
      "source": [
        "dados = pd.read_excel(\"/content/ipeadata[09-04-2023-05-23]-DCAA20231.xls\")\n",
        "dados"
      ],
      "metadata": {
        "id": "c-77eT0NE_xw",
        "colab": {
          "base_uri": "https://localhost:8080/",
          "height": 586
        },
        "outputId": "73b15f63-42c6-4d15-8509-1a07602ffb23"
      },
      "execution_count": null,
      "outputs": [
        {
          "output_type": "execute_result",
          "data": {
            "text/plain": [
              "    Data       Taxa\n",
              "0   2000  29.018020\n",
              "1   2001  27.480023\n",
              "2   2002  26.039508\n",
              "3   2003  24.676786\n",
              "4   2004  23.389614\n",
              "5   2005  22.177229\n",
              "6   2006  21.038927\n",
              "7   2007  19.978506\n",
              "8   2008  18.987578\n",
              "9   2009  18.068601\n",
              "10  2010  17.215897\n",
              "11  2011  16.425223\n",
              "12  2012  15.694182\n",
              "13  2013  15.020556\n",
              "14  2014  14.397994\n",
              "15  2015  13.823416\n",
              "16  2016  13.293905\n",
              "17  2017  12.805347\n",
              "18  2018  12.354667\n",
              "19  2019  11.939310\n",
              "20  2020  11.557412\n",
              "21  2021  11.203947"
            ],
            "text/html": [
              "\n",
              "  <div id=\"df-7ecb0d92-de2b-48cc-8f83-0cf75234bcd1\">\n",
              "    <div class=\"colab-df-container\">\n",
              "      <div>\n",
              "<style scoped>\n",
              "    .dataframe tbody tr th:only-of-type {\n",
              "        vertical-align: middle;\n",
              "    }\n",
              "\n",
              "    .dataframe tbody tr th {\n",
              "        vertical-align: top;\n",
              "    }\n",
              "\n",
              "    .dataframe thead th {\n",
              "        text-align: right;\n",
              "    }\n",
              "</style>\n",
              "<table border=\"1\" class=\"dataframe\">\n",
              "  <thead>\n",
              "    <tr style=\"text-align: right;\">\n",
              "      <th></th>\n",
              "      <th>Data</th>\n",
              "      <th>Taxa</th>\n",
              "    </tr>\n",
              "  </thead>\n",
              "  <tbody>\n",
              "    <tr>\n",
              "      <th>0</th>\n",
              "      <td>2000</td>\n",
              "      <td>29.018020</td>\n",
              "    </tr>\n",
              "    <tr>\n",
              "      <th>1</th>\n",
              "      <td>2001</td>\n",
              "      <td>27.480023</td>\n",
              "    </tr>\n",
              "    <tr>\n",
              "      <th>2</th>\n",
              "      <td>2002</td>\n",
              "      <td>26.039508</td>\n",
              "    </tr>\n",
              "    <tr>\n",
              "      <th>3</th>\n",
              "      <td>2003</td>\n",
              "      <td>24.676786</td>\n",
              "    </tr>\n",
              "    <tr>\n",
              "      <th>4</th>\n",
              "      <td>2004</td>\n",
              "      <td>23.389614</td>\n",
              "    </tr>\n",
              "    <tr>\n",
              "      <th>5</th>\n",
              "      <td>2005</td>\n",
              "      <td>22.177229</td>\n",
              "    </tr>\n",
              "    <tr>\n",
              "      <th>6</th>\n",
              "      <td>2006</td>\n",
              "      <td>21.038927</td>\n",
              "    </tr>\n",
              "    <tr>\n",
              "      <th>7</th>\n",
              "      <td>2007</td>\n",
              "      <td>19.978506</td>\n",
              "    </tr>\n",
              "    <tr>\n",
              "      <th>8</th>\n",
              "      <td>2008</td>\n",
              "      <td>18.987578</td>\n",
              "    </tr>\n",
              "    <tr>\n",
              "      <th>9</th>\n",
              "      <td>2009</td>\n",
              "      <td>18.068601</td>\n",
              "    </tr>\n",
              "    <tr>\n",
              "      <th>10</th>\n",
              "      <td>2010</td>\n",
              "      <td>17.215897</td>\n",
              "    </tr>\n",
              "    <tr>\n",
              "      <th>11</th>\n",
              "      <td>2011</td>\n",
              "      <td>16.425223</td>\n",
              "    </tr>\n",
              "    <tr>\n",
              "      <th>12</th>\n",
              "      <td>2012</td>\n",
              "      <td>15.694182</td>\n",
              "    </tr>\n",
              "    <tr>\n",
              "      <th>13</th>\n",
              "      <td>2013</td>\n",
              "      <td>15.020556</td>\n",
              "    </tr>\n",
              "    <tr>\n",
              "      <th>14</th>\n",
              "      <td>2014</td>\n",
              "      <td>14.397994</td>\n",
              "    </tr>\n",
              "    <tr>\n",
              "      <th>15</th>\n",
              "      <td>2015</td>\n",
              "      <td>13.823416</td>\n",
              "    </tr>\n",
              "    <tr>\n",
              "      <th>16</th>\n",
              "      <td>2016</td>\n",
              "      <td>13.293905</td>\n",
              "    </tr>\n",
              "    <tr>\n",
              "      <th>17</th>\n",
              "      <td>2017</td>\n",
              "      <td>12.805347</td>\n",
              "    </tr>\n",
              "    <tr>\n",
              "      <th>18</th>\n",
              "      <td>2018</td>\n",
              "      <td>12.354667</td>\n",
              "    </tr>\n",
              "    <tr>\n",
              "      <th>19</th>\n",
              "      <td>2019</td>\n",
              "      <td>11.939310</td>\n",
              "    </tr>\n",
              "    <tr>\n",
              "      <th>20</th>\n",
              "      <td>2020</td>\n",
              "      <td>11.557412</td>\n",
              "    </tr>\n",
              "    <tr>\n",
              "      <th>21</th>\n",
              "      <td>2021</td>\n",
              "      <td>11.203947</td>\n",
              "    </tr>\n",
              "  </tbody>\n",
              "</table>\n",
              "</div>\n",
              "      <button class=\"colab-df-convert\" onclick=\"convertToInteractive('df-7ecb0d92-de2b-48cc-8f83-0cf75234bcd1')\"\n",
              "              title=\"Convert this dataframe to an interactive table.\"\n",
              "              style=\"display:none;\">\n",
              "        \n",
              "  <svg xmlns=\"http://www.w3.org/2000/svg\" height=\"24px\"viewBox=\"0 0 24 24\"\n",
              "       width=\"24px\">\n",
              "    <path d=\"M0 0h24v24H0V0z\" fill=\"none\"/>\n",
              "    <path d=\"M18.56 5.44l.94 2.06.94-2.06 2.06-.94-2.06-.94-.94-2.06-.94 2.06-2.06.94zm-11 1L8.5 8.5l.94-2.06 2.06-.94-2.06-.94L8.5 2.5l-.94 2.06-2.06.94zm10 10l.94 2.06.94-2.06 2.06-.94-2.06-.94-.94-2.06-.94 2.06-2.06.94z\"/><path d=\"M17.41 7.96l-1.37-1.37c-.4-.4-.92-.59-1.43-.59-.52 0-1.04.2-1.43.59L10.3 9.45l-7.72 7.72c-.78.78-.78 2.05 0 2.83L4 21.41c.39.39.9.59 1.41.59.51 0 1.02-.2 1.41-.59l7.78-7.78 2.81-2.81c.8-.78.8-2.07 0-2.86zM5.41 20L4 18.59l7.72-7.72 1.47 1.35L5.41 20z\"/>\n",
              "  </svg>\n",
              "      </button>\n",
              "      \n",
              "  <style>\n",
              "    .colab-df-container {\n",
              "      display:flex;\n",
              "      flex-wrap:wrap;\n",
              "      gap: 12px;\n",
              "    }\n",
              "\n",
              "    .colab-df-convert {\n",
              "      background-color: #E8F0FE;\n",
              "      border: none;\n",
              "      border-radius: 50%;\n",
              "      cursor: pointer;\n",
              "      display: none;\n",
              "      fill: #1967D2;\n",
              "      height: 32px;\n",
              "      padding: 0 0 0 0;\n",
              "      width: 32px;\n",
              "    }\n",
              "\n",
              "    .colab-df-convert:hover {\n",
              "      background-color: #E2EBFA;\n",
              "      box-shadow: 0px 1px 2px rgba(60, 64, 67, 0.3), 0px 1px 3px 1px rgba(60, 64, 67, 0.15);\n",
              "      fill: #174EA6;\n",
              "    }\n",
              "\n",
              "    [theme=dark] .colab-df-convert {\n",
              "      background-color: #3B4455;\n",
              "      fill: #D2E3FC;\n",
              "    }\n",
              "\n",
              "    [theme=dark] .colab-df-convert:hover {\n",
              "      background-color: #434B5C;\n",
              "      box-shadow: 0px 1px 3px 1px rgba(0, 0, 0, 0.15);\n",
              "      filter: drop-shadow(0px 1px 2px rgba(0, 0, 0, 0.3));\n",
              "      fill: #FFFFFF;\n",
              "    }\n",
              "  </style>\n",
              "\n",
              "      <script>\n",
              "        const buttonEl =\n",
              "          document.querySelector('#df-7ecb0d92-de2b-48cc-8f83-0cf75234bcd1 button.colab-df-convert');\n",
              "        buttonEl.style.display =\n",
              "          google.colab.kernel.accessAllowed ? 'block' : 'none';\n",
              "\n",
              "        async function convertToInteractive(key) {\n",
              "          const element = document.querySelector('#df-7ecb0d92-de2b-48cc-8f83-0cf75234bcd1');\n",
              "          const dataTable =\n",
              "            await google.colab.kernel.invokeFunction('convertToInteractive',\n",
              "                                                     [key], {});\n",
              "          if (!dataTable) return;\n",
              "\n",
              "          const docLinkHtml = 'Like what you see? Visit the ' +\n",
              "            '<a target=\"_blank\" href=https://colab.research.google.com/notebooks/data_table.ipynb>data table notebook</a>'\n",
              "            + ' to learn more about interactive tables.';\n",
              "          element.innerHTML = '';\n",
              "          dataTable['output_type'] = 'display_data';\n",
              "          await google.colab.output.renderOutput(dataTable, element);\n",
              "          const docLink = document.createElement('div');\n",
              "          docLink.innerHTML = docLinkHtml;\n",
              "          element.appendChild(docLink);\n",
              "        }\n",
              "      </script>\n",
              "    </div>\n",
              "  </div>\n",
              "  "
            ]
          },
          "metadata": {},
          "execution_count": 3
        }
      ]
    },
    {
      "cell_type": "code",
      "source": [
        "print('A base de dados apresenta {} linhas e {} colunas'.format \n",
        "      (dados.shape[0], dados.shape[1]))"
      ],
      "metadata": {
        "colab": {
          "base_uri": "https://localhost:8080/"
        },
        "id": "3fzgXU9Z-i2A",
        "outputId": "b5af768b-e204-469a-ef91-bfc8b1b8d6d3"
      },
      "execution_count": null,
      "outputs": [
        {
          "output_type": "stream",
          "name": "stdout",
          "text": [
            "A base de dados apresenta 22 linhas e 2 colunas\n"
          ]
        }
      ]
    },
    {
      "cell_type": "code",
      "source": [
        "\n",
        "x = dados.Data\n",
        "y = dados.Taxa\n",
        "\n",
        "plt.plot(x,y)\n"
      ],
      "metadata": {
        "colab": {
          "base_uri": "https://localhost:8080/",
          "height": 447
        },
        "id": "BkEtd7EigZMe",
        "outputId": "efef541e-5301-40ac-ac9e-57ced2073504"
      },
      "execution_count": null,
      "outputs": [
        {
          "output_type": "execute_result",
          "data": {
            "text/plain": [
              "[<matplotlib.lines.Line2D at 0x7f9a699a93d0>]"
            ]
          },
          "metadata": {},
          "execution_count": 8
        },
        {
          "output_type": "display_data",
          "data": {
            "text/plain": [
              "<Figure size 640x480 with 1 Axes>"
            ],
            "image/png": "[encoded data removed]"
          },
          "metadata": {}
        }
      ]
    },
    {
      "cell_type": "markdown",
      "source": [
        "Análise de dados comparativos em relação às taxas dos anos anteriores:\n",
        "O gráfico e a tabela mostram uma tendência de queda na taxa ao longo dos anos, começando em 2000 com uma taxa de 29,01% e chegando a 11,20% em 2021.\n",
        "\n",
        "Abaixo está a análise percentual de cada ano em relação ao ano anterior:\n",
        "\n",
        "Em 2001, houve uma queda de 5,29% em relação a 2000,\n",
        "Em 2002, houve uma queda de 5,22% em relação a 2001,\n",
        "Em 2003, houve uma queda de 4,97% em relação a 2002,\n",
        "Em 2004, houve uma queda de 4,83% em relação a 2003,\n",
        "Em 2005, houve uma queda de 4,94% em relação a 2004,\n",
        "Em 2006, houve uma queda de 5,14% em relação a 2005,\n",
        "Em 2007, houve uma queda de 5,05% em relação a 2006,\n",
        "Em 2008, houve uma queda de 5,02% em relação a 2007,\n",
        "Em 2009, houve uma queda de 4,79% em relação a 2008,\n",
        "Em 2010, houve uma queda de 4,71% em relação a 2009,\n",
        "Em 2011, houve uma queda de 4,57% em relação a 2010,\n",
        "Em 2012, houve uma queda de 4,44% em relação a 2011,\n",
        "Em 2013, houve uma queda de 4,30% em relação a 2012,\n",
        "Em 2014, houve uma queda de 4,15% em relação a 2013,\n",
        "Em 2015, houve uma queda de 4,00% em relação a 2014,\n",
        "Em 2016, houve uma queda de 3,81% em relação a 2015,\n",
        "Em 2017, houve uma queda de 3,68% em relação a 2016,\n",
        "Em 2018, houve uma queda de 3,53% em relação a 2017,\n",
        "Em 2019, houve uma queda de 3,36% em relação a 2018,\n",
        "Em 2020, houve uma queda de 3,20% em relação a 2019,\n",
        "Em 2021, houve uma queda de 3,07% em relação a 2020.\n",
        "Esses números mostram uma queda constante na taxa ao longo dos anos. Entretanto, é importante pontuar que as quedas percentuais diminuíram um pouco ao longo do tempo. Por exemplo, a queda percentual de 2002 para 2003 foi maior do que a queda percentual de 2020 para 2021. Isso pode sugerir que a taxa está se estabilizando em torno de um certo valor mínimo."
      ],
      "metadata": {
        "id": "SVIVn4RS1PUZ"
      }
    },
    {
      "cell_type": "markdown",
      "source": [
        "Contexto sociocultural: A redução da taxa de mortalidade de nascidos vivos pode ser, e provavelmente é, um resultado de uma combinação de diversos fatores como, por exemplo, avanços na medicina, melhores cuidados pré-natais e neonatais, acesso a cuidados de saúde de qualidade, conscientização sobre saúde pública e melhorias socioeconômicas"
      ],
      "metadata": {
        "id": "lHSlAau81twa"
      }
    },
    {
      "cell_type": "markdown",
      "source": [
        "*Políticas Públicas que auxiliaram a diminuição significativa da taxa de mortalidade infantil por nascidos vivos desde o ano 2000 até a atualidade:*\n",
        "\n",
        "\n",
        "**Rede Cegonha:**\n",
        "Lançada em 2011, a Rede Cegonha é uma política pública que tem como objetivo garantir atenção humanizada e integral à saúde da mulher e do recém-nascido, desde a gestação até os primeiros anos de vida da criança. A rede inclui uma série de ações e serviços, como consultas de pré-natal, parto humanizado, atenção neonatal, entre outros.\n",
        "\n",
        "Diretrizes da Rede Cegonha:\n",
        "\n",
        "   1- Garantia do acolhimento com classificação de risco, ampliação do acesso e melhoria da qualidade do PRÉ-NATAL.\n",
        "\n",
        "   2- Garantia de vinculação da gestante à unidade de referência e ao transporte seguro.\n",
        "\n",
        "   3- Garantia das boas práticas e segurança na atenção ao Parto e nascimento.\n",
        "\n",
        "   4- Garantia da atenção à saúde das crianças de 0 a 24 meses com qualidade e resolutividade.\n",
        "\n",
        "   5- Garantia da ampliação do acesso ao planejamento produtivo.\n",
        "\n",
        "\n",
        "Normativas instituídas para o Programa da Rede Cegonha:\n",
        "\n",
        "   Portaria Nº 1.459, de 24 de junho de 2011\n",
        "Institui, no âmbito do SUS, a Rede Cegonha.\n",
        "\n",
        "   Portaria Nº 2.351, de 5 de outubro de 2011\n",
        "Altera a Portaria nº 1.459/GM/MS, de 24 de junho de 2011, que institui, no âmbito do SUS, a Rede Cegonha.\n",
        "\n",
        "   Portaria Nº 650, de 5 de outubro de 2011\n",
        "Dispõe sobre os Planos de Ação Regional e Municipal da Rede Cegonha.\n",
        "\n",
        "\n",
        "**Programa Nacional de Imunização (PNI):**\n",
        "O Programa Nacional de Imunização é responsável por coordenar as campanhas de vacinação em todo o país. Desde a sua criação, o programa tem sido um importante instrumento na prevenção de doenças e na redução da mortalidade infantil.\n",
        "Ao longo do tempo, a atuação do PNI alcançou consideráveis avanços ao consolidar a estratégia de vacinação nacional. As metas mais recentes contemplam a eliminação do sarampo e do tétano neonatal. A essas, se soma o controle de outras doenças imunopreveníveis como Difteria, Coqueluche e Tétano acidental, Hepatite B, Meningites, Febre Amarela, formas graves da Tuberculose, Rubéola e Caxumba em alguns Estados, bem como, a manutenção da erradicação da Poliomielite.\n",
        "\n",
        "**Política Nacional de Atenção Integral à Saúde da Criança (PNAISC):** Lançada em 2011, a PNAISC é uma política que tem como objetivo garantir o acesso das crianças a serviços de saúde de qualidade, com atenção integral e humanizada. A política prevê ações como o acompanhamento do crescimento e desenvolvimento infantil, a promoção da alimentação saudável, a prevenção e tratamento de doenças, entre outras.\n",
        "\n",
        "Foi instituída pela Portaria nº 1.130:\n",
        "https://bvsms.saude.gov.br/bvs/saudelegis/gm/2015/prt1130_05_08_2015.html\n",
        "\n",
        "\n",
        "**Programa Saúde da Família (PSF):**\n",
        "O Programa Saúde da Família é uma estratégia do Ministério da Saúde para reorganizar o modelo de atenção à saúde no país. O programa prevê a criação de equipes de saúde da família, que têm como objetivo prestar assistência básica de saúde às famílias, com ênfase na prevenção de doenças e promoção da saúde. Cada equipe do programa é capacitada para conhecer a realidade das famílias pelas quais é responsável, por meio de cadastramento e diagnóstico de suas características sociais, demográficas e epidemiológicas; identificar os principais problemas de saúde e situações de risco aos quais a população que ela atende está exposta; elaborar, com a participação da comunidade, um plano local para enfrentar os determinantes do processo saúde/doença; prestar assistência integral, respondendo de forma contínua e racionalizada à demanda, organizada ou espontânea, na Unidade de Saúde da Família, na comunidade, no domicílio e no acompanhamento ao atendimento nos serviços de referência ambulatorial ou hospitalar; além de desenvolver ações educativas e intersetoriais para enfrentar os problemas de saúde identificados.\n",
        "\n",
        "\n",
        "**Programa Bolsa Família:** \n",
        "O Programa Bolsa Família é uma política de transferência de renda que tem como objetivo reduzir a pobreza e a desigualdade social. O programa beneficia famílias em situação de pobreza ou extrema pobreza, desde que cumpram as condições estabelecidas pelo programa. O Bolsa Família tem um impacto importante na redução da mortalidade infantil, pois ajuda a garantir o acesso das famílias aos serviços de saúde e nutrição.\n",
        "\n",
        "Medida Provisória que institui o Programa Bolsa Família:\n",
        "https://www.in.gov.br/en/web/dou/-/medida-provisoria-n-1.164-de-2-de-marco-de-2023-467449434\n"
      ],
      "metadata": {
        "id": "jys17OPN29WQ"
      }
    }
  ]
}